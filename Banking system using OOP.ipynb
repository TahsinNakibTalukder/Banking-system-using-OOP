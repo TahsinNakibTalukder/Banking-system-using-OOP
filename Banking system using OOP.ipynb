{
 "cells": [
  {
   "cell_type": "markdown",
   "metadata": {},
   "source": [
    "# Create Class User"
   ]
  },
  {
   "cell_type": "markdown",
   "metadata": {},
   "source": [
    "### Parent class"
   ]
  },
  {
   "cell_type": "code",
   "execution_count": 110,
   "metadata": {},
   "outputs": [],
   "source": [
    "class User():\n",
    "    def __init__(self,name,gender,age):\n",
    "        self.name = name\n",
    "        self.gender = gender\n",
    "        self.age = age\n",
    "    \n",
    "    # show details infoprmation function\n",
    "    def show_details(self):\n",
    "        print(\"Personal details\")\n",
    "        print(\"\")\n",
    "        print(\"Name: \", self.name)\n",
    "        print(\"Gender: \", self.gender)\n",
    "        print(\"Age: \", self.age)"
   ]
  },
  {
   "cell_type": "code",
   "execution_count": null,
   "metadata": {},
   "outputs": [],
   "source": []
  },
  {
   "cell_type": "markdown",
   "metadata": {},
   "source": [
    "## Child Class"
   ]
  },
  {
   "cell_type": "markdown",
   "metadata": {},
   "source": [
    "### Inherits all the information from the parent calss so we do not have to call the parent calss anymore."
   ]
  },
  {
   "cell_type": "code",
   "execution_count": 111,
   "metadata": {},
   "outputs": [],
   "source": [
    "class Bank(User):\n",
    "    def __init__(self,name, gender, age):\n",
    "        super().__init__(name,gender,age)\n",
    "        #each account starts with a balance 0, we will update it in future\n",
    "        self.balance = 0\n",
    "    \n",
    "    # creating deposit function\n",
    "    def deposit(self,amount):\n",
    "        self.amount = amount\n",
    "        self.balance = self.balance + self.amount\n",
    "        print(\"Account balance: $\", self.balance)\n",
    "        \n",
    "    # creating withdraw function\n",
    "    def withdraw(self, amount):\n",
    "        self.amount = amount\n",
    "        if self.amount > self.balance:\n",
    "            print(\"Insufficient balance | Balance is : $\", self.balance)\n",
    "        else:\n",
    "            self.balance = self.balance - self.amount\n",
    "            print(\"Account balance updated : $\", self.balance)\n",
    "            \n",
    "    # creating view balance function\n",
    "    def view_balance(self):\n",
    "        self.show_details()\n",
    "        print(\"Account balance is : $\", self.balance)\n",
    "        \n",
    "            \n",
    "        \n",
    "        \n",
    "    "
   ]
  },
  {
   "cell_type": "code",
   "execution_count": 112,
   "metadata": {},
   "outputs": [],
   "source": [
    "John = Bank('John', 'Male', 90)"
   ]
  },
  {
   "cell_type": "code",
   "execution_count": 113,
   "metadata": {},
   "outputs": [
    {
     "name": "stdout",
     "output_type": "stream",
     "text": [
      "Account balance: $ 9000\n"
     ]
    }
   ],
   "source": [
    "John.deposit(9000)"
   ]
  },
  {
   "cell_type": "code",
   "execution_count": 114,
   "metadata": {},
   "outputs": [
    {
     "name": "stdout",
     "output_type": "stream",
     "text": [
      "Account balance: $ 9500\n"
     ]
    }
   ],
   "source": [
    "John.deposit(500)"
   ]
  },
  {
   "cell_type": "code",
   "execution_count": 115,
   "metadata": {},
   "outputs": [
    {
     "name": "stdout",
     "output_type": "stream",
     "text": [
      "Account balance: $ 10500\n"
     ]
    }
   ],
   "source": [
    "John.deposit(1000)"
   ]
  },
  {
   "cell_type": "code",
   "execution_count": 116,
   "metadata": {},
   "outputs": [
    {
     "name": "stdout",
     "output_type": "stream",
     "text": [
      "Account balance updated : $ 2500\n"
     ]
    }
   ],
   "source": [
    "John.withdraw(8000)"
   ]
  },
  {
   "cell_type": "code",
   "execution_count": 117,
   "metadata": {},
   "outputs": [
    {
     "name": "stdout",
     "output_type": "stream",
     "text": [
      "Account balance updated : $ 1800\n"
     ]
    }
   ],
   "source": [
    "John.withdraw(700)"
   ]
  },
  {
   "cell_type": "code",
   "execution_count": 118,
   "metadata": {},
   "outputs": [
    {
     "name": "stdout",
     "output_type": "stream",
     "text": [
      "Personal details\n",
      "\n",
      "Name:  John\n",
      "Gender:  Male\n",
      "Age:  90\n",
      "Account balance is : $ 1800\n"
     ]
    }
   ],
   "source": [
    "John.view_balance()"
   ]
  },
  {
   "cell_type": "code",
   "execution_count": null,
   "metadata": {},
   "outputs": [],
   "source": []
  },
  {
   "cell_type": "code",
   "execution_count": null,
   "metadata": {},
   "outputs": [],
   "source": []
  }
 ],
 "metadata": {
  "kernelspec": {
   "display_name": "Python 3",
   "language": "python",
   "name": "python3"
  },
  "language_info": {
   "codemirror_mode": {
    "name": "ipython",
    "version": 3
   },
   "file_extension": ".py",
   "mimetype": "text/x-python",
   "name": "python",
   "nbconvert_exporter": "python",
   "pygments_lexer": "ipython3",
   "version": "3.8.5"
  }
 },
 "nbformat": 4,
 "nbformat_minor": 4
}
